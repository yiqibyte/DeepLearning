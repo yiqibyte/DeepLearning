{
 "cells": [
  {
   "cell_type": "code",
   "execution_count": 1,
   "id": "f218bc4c",
   "metadata": {},
   "outputs": [],
   "source": [
    "import torch\n",
    "import torch.nn as nn\n",
    "from torchvision.datasets import MNIST\n",
    "from torchvision import transforms\n",
    "from torch.utils.data import TensorDataset, DataLoader"
   ]
  },
  {
   "cell_type": "code",
   "execution_count": 10,
   "id": "554c8cdc",
   "metadata": {},
   "outputs": [],
   "source": [
    "trans = transforms.ToTensor()\n",
    "\n",
    "train_data = MNIST(root='./data', train=True, download=True, transform=trans)\n",
    "test_data = MNIST(root='./data', train=False, download=True, transform=trans)\n",
    "\n",
    "train_loader = DataLoader(train_data, shuffle=True, batch_size=128)\n",
    "test_loader = DataLoader(test_data, batch_size=128)"
   ]
  },
  {
   "cell_type": "code",
   "execution_count": null,
   "id": "69044f50",
   "metadata": {},
   "outputs": [],
   "source": [
    "nn.LSTM"
   ]
  },
  {
   "cell_type": "code",
   "execution_count": null,
   "id": "2ab680af",
   "metadata": {},
   "outputs": [
    {
     "data": {
      "text/plain": [
       "torch.Size([10, 128])"
      ]
     },
     "execution_count": 56,
     "metadata": {},
     "output_type": "execute_result"
    }
   ],
   "source": [
    "input_size = 28\n",
    "seq_len = 28\n",
    "hidden_size = 128\n",
    "output_size = 10\n",
    "\n",
    "Wx = torch.normal(0, 1, (input_size, hidden_size * 4), requires_grad=True)\n",
    "Wh = torch.normal(0, 1, (hidden_size, hidden_size * 4), requires_grad=True)\t\n",
    "b = torch.normal(0, 1, (1, hidden_size * 4), requires_grad=True)\n",
    "\n",
    "\n",
    "def MyLSTM(X, Wx, Wh, b, hidden_size=128):\n",
    "\tbatch_size, seq_len, input_size = X.shape\n",
    "\th = torch.zeros(batch_size, hidden_size)\n",
    "\tc = torch.zeros(batch_size, hidden_size)\n",
    "\tfor s in range(seq_len):\n",
    "\t\tcombined = torch.matmul(X[:, s, :], Wx) + torch.matmul(h, Wh) + b\n",
    "\t\tf, i, g, o = torch.chunk(combined, 4, dim=-1)\n",
    "\t\tc_next = c * torch.sigmoid(f) + torch.tanh(g) * torch.sigmoid(i)\n",
    "\t\th_next = torch.sigmoid(o) * torch.tanh(c_next)\n",
    "\t\tc = c_next\n",
    "\t\th = h_next\n",
    "\t\n",
    "\treturn h\n",
    "\t\n",
    "# 示例\n",
    "\n",
    "X = torch.normal(0, 1, (10, 28, 28))\n",
    "MyLSTM(X, Wx, Wh, b).shape"
   ]
  },
  {
   "cell_type": "code",
   "execution_count": 62,
   "id": "98d1be18",
   "metadata": {},
   "outputs": [
    {
     "name": "stdout",
     "output_type": "stream",
     "text": [
      "Epoch 1, Loss: 2.9985, Train Acc: 0.2182\n",
      "Epoch 2, Loss: 1.9577, Train Acc: 0.2971\n",
      "Epoch 3, Loss: 1.9469, Train Acc: 0.2992\n",
      "Epoch 4, Loss: 1.8435, Train Acc: 0.3454\n",
      "Epoch 5, Loss: 1.7690, Train Acc: 0.3740\n",
      "Epoch 6, Loss: 1.6905, Train Acc: 0.4091\n",
      "Epoch 7, Loss: 1.5922, Train Acc: 0.4459\n",
      "Epoch 8, Loss: 1.4930, Train Acc: 0.4814\n",
      "Epoch 9, Loss: 1.4151, Train Acc: 0.5077\n",
      "Epoch 10, Loss: 1.3520, Train Acc: 0.5291\n"
     ]
    }
   ],
   "source": [
    "epochs = 10\n",
    "lr = 1e-2\n",
    "\n",
    "\n",
    "import torch.nn.functional as F\n",
    "\n",
    "W_out = torch.randn(hidden_size, output_size, requires_grad=True)\n",
    "b_out = torch.zeros(1, output_size, requires_grad=True)\n",
    "\n",
    "\n",
    "for epoch in range(epochs):\n",
    "\ttotal_loss = 0\n",
    "\tcorrect = 0\n",
    "\tfor X, y in train_loader:\n",
    "\t\t# print(X.shape)\n",
    "\t\th = MyLSTM(X.squeeze(), Wx, Wh, b)\n",
    "\t\tlogits = torch.matmul(h, W_out) + b_out\n",
    "\t\tloss = F.cross_entropy(logits, y)\n",
    "\t\t\t\n",
    "\t\tloss.backward()\n",
    "\n",
    "\t\t# 梯度下降\n",
    "\t\twith torch.no_grad():\n",
    "\t\t\tfor param in [Wx, Wh, b, W_out, b_out]:\n",
    "\t\t\t\tparam -= lr * param.grad\n",
    "\t\t\t\tparam.grad.zero_()\n",
    "\n",
    "\t\ttotal_loss += loss.item() * len(X)\n",
    "\t\tcorrect += (logits.argmax(dim=1) == y).sum().item()\n",
    "\n",
    "\tacc = correct / len(train_data)\n",
    "\tprint(f\"Epoch {epoch+1}, Loss: {total_loss / len(train_data) :.4f}, Train Acc: {acc:.4f}\")"
   ]
  },
  {
   "cell_type": "code",
   "execution_count": 80,
   "id": "777f670f",
   "metadata": {},
   "outputs": [
    {
     "name": "stdout",
     "output_type": "stream",
     "text": [
      "Epoch 1, Loss: 0.4085, Train Acc: 0.8670\n",
      "Epoch 2, Loss: 0.1038, Train Acc: 0.9704\n",
      "Epoch 3, Loss: 0.0771, Train Acc: 0.9776\n",
      "Epoch 4, Loss: 0.0700, Train Acc: 0.9797\n",
      "Epoch 5, Loss: 0.0607, Train Acc: 0.9822\n",
      "Epoch 6, Loss: 0.0473, Train Acc: 0.9859\n",
      "Epoch 7, Loss: 0.0508, Train Acc: 0.9849\n",
      "Epoch 8, Loss: 0.0403, Train Acc: 0.9883\n",
      "Epoch 9, Loss: 0.0393, Train Acc: 0.9880\n",
      "Epoch 10, Loss: 0.0394, Train Acc: 0.9879\n"
     ]
    }
   ],
   "source": [
    "input_size = 28\n",
    "seq_len = 28\n",
    "hidden_size = 128\n",
    "output_size = 10\n",
    "\n",
    "\n",
    "epochs = 10\n",
    "lr = 1e-2\n",
    "\n",
    "class RNNClassifier(nn.Module):\n",
    "\tdef __init__(self):\n",
    "\t\tsuper().__init__()\n",
    "\t\tself.rnn = nn.LSTM(input_size, hidden_size, batch_first=True)\n",
    "\t\tself.fc = nn.Linear(hidden_size, output_size)\n",
    "\n",
    "\tdef forward(self, x):\n",
    "\t\t# x: (batch, seq_len, input_size)\n",
    "\t\toutputs, _ = self.rnn(x)  # outputs: (batch, seq_len, hidden_size)\n",
    "\t\tlast_output = outputs[:, -1, :]  # (batch, hidden_size)\n",
    "\t\treturn self.fc(last_output)     # (batch, output_size)\n",
    "\n",
    "model = RNNClassifier()\n",
    "optimizer = torch.optim.Adam(model.parameters(), lr=lr)\n",
    "loss_fn = torch.nn.CrossEntropyLoss()\n",
    "for epoch in range(epochs):\n",
    "\ttotal_loss = 0\n",
    "\tcorrect = 0\n",
    "\tfor X, y in train_loader:\n",
    "\t\tX = X.squeeze()\n",
    "\t\tlogits = model(X)\n",
    "\t\t# print(logits.shape)\n",
    "\t\tloss = loss_fn(logits, y)\n",
    "\n",
    "\t\tloss.backward()\n",
    "\t\toptimizer.step()\n",
    "\t\toptimizer.zero_grad()\n",
    "\n",
    "\t\ttotal_loss += loss.item() * len(X)\n",
    "\t\tcorrect += (logits.argmax(dim=1) == y).sum().item()\n",
    "\n",
    "\tacc = correct / len(train_data)\n",
    "\tprint(f\"Epoch {epoch+1}, Loss: {total_loss / len(train_data) :.4f}, Train Acc: {acc:.4f}\")"
   ]
  }
 ],
 "metadata": {
  "kernelspec": {
   "display_name": "dl",
   "language": "python",
   "name": "python3"
  },
  "language_info": {
   "codemirror_mode": {
    "name": "ipython",
    "version": 3
   },
   "file_extension": ".py",
   "mimetype": "text/x-python",
   "name": "python",
   "nbconvert_exporter": "python",
   "pygments_lexer": "ipython3",
   "version": "3.10.18"
  }
 },
 "nbformat": 4,
 "nbformat_minor": 5
}
