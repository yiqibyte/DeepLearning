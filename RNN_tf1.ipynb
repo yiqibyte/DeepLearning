{
 "cells": [
  {
   "cell_type": "code",
   "execution_count": 6,
   "id": "9e1a96df",
   "metadata": {},
   "outputs": [],
   "source": [
    "import tensorflow as tf\n",
    "from tensorflow.keras.datasets import mnist\n",
    "from tensorflow.data import Dataset"
   ]
  },
  {
   "cell_type": "code",
   "execution_count": 3,
   "id": "24b39b82",
   "metadata": {},
   "outputs": [],
   "source": [
    "(X_train, y_train), (X_test, y_test) = mnist.load_data()"
   ]
  },
  {
   "cell_type": "code",
   "execution_count": null,
   "id": "0b721d3f",
   "metadata": {},
   "outputs": [],
   "source": [
    "batch_size = 128\n",
    "train_dataset = Dataset.from_tensor_slices((X_train, y_train)).shuffle(buffer_size=1024).batch(batch_size=batch_size)\n",
    "test_dataset = Dataset.from_tensor_slices((X_test, y_test)).batch(batch_size=batch_size)"
   ]
  },
  {
   "cell_type": "code",
   "execution_count": null,
   "id": "297eeb5b",
   "metadata": {},
   "outputs": [
    {
     "data": {
      "text/html": [
       "<pre style=\"white-space:pre;overflow-x:auto;line-height:normal;font-family:Menlo,'DejaVu Sans Mono',consolas,'Courier New',monospace\"><span style=\"font-weight: bold\">Model: \"functional_9\"</span>\n",
       "</pre>\n"
      ],
      "text/plain": [
       "\u001b[1mModel: \"functional_9\"\u001b[0m\n"
      ]
     },
     "metadata": {},
     "output_type": "display_data"
    },
    {
     "data": {
      "text/html": [
       "<pre style=\"white-space:pre;overflow-x:auto;line-height:normal;font-family:Menlo,'DejaVu Sans Mono',consolas,'Courier New',monospace\">┏━━━━━━━━━━━━━━━━━━━━━━━━━━━━━━━━━┳━━━━━━━━━━━━━━━━━━━━━━━━┳━━━━━━━━━━━━━━━┓\n",
       "┃<span style=\"font-weight: bold\"> Layer (type)                    </span>┃<span style=\"font-weight: bold\"> Output Shape           </span>┃<span style=\"font-weight: bold\">       Param # </span>┃\n",
       "┡━━━━━━━━━━━━━━━━━━━━━━━━━━━━━━━━━╇━━━━━━━━━━━━━━━━━━━━━━━━╇━━━━━━━━━━━━━━━┩\n",
       "│ input_layer_12 (<span style=\"color: #0087ff; text-decoration-color: #0087ff\">InputLayer</span>)     │ (<span style=\"color: #00d7ff; text-decoration-color: #00d7ff\">None</span>, <span style=\"color: #00af00; text-decoration-color: #00af00\">28</span>, <span style=\"color: #00af00; text-decoration-color: #00af00\">28</span>)         │             <span style=\"color: #00af00; text-decoration-color: #00af00\">0</span> │\n",
       "├─────────────────────────────────┼────────────────────────┼───────────────┤\n",
       "│ simple_rnn_11 (<span style=\"color: #0087ff; text-decoration-color: #0087ff\">SimpleRNN</span>)       │ (<span style=\"color: #00d7ff; text-decoration-color: #00d7ff\">None</span>, <span style=\"color: #00af00; text-decoration-color: #00af00\">128</span>)            │        <span style=\"color: #00af00; text-decoration-color: #00af00\">20,096</span> │\n",
       "├─────────────────────────────────┼────────────────────────┼───────────────┤\n",
       "│ dense_10 (<span style=\"color: #0087ff; text-decoration-color: #0087ff\">Dense</span>)                │ (<span style=\"color: #00d7ff; text-decoration-color: #00d7ff\">None</span>, <span style=\"color: #00af00; text-decoration-color: #00af00\">10</span>)             │         <span style=\"color: #00af00; text-decoration-color: #00af00\">1,290</span> │\n",
       "└─────────────────────────────────┴────────────────────────┴───────────────┘\n",
       "</pre>\n"
      ],
      "text/plain": [
       "┏━━━━━━━━━━━━━━━━━━━━━━━━━━━━━━━━━┳━━━━━━━━━━━━━━━━━━━━━━━━┳━━━━━━━━━━━━━━━┓\n",
       "┃\u001b[1m \u001b[0m\u001b[1mLayer (type)                   \u001b[0m\u001b[1m \u001b[0m┃\u001b[1m \u001b[0m\u001b[1mOutput Shape          \u001b[0m\u001b[1m \u001b[0m┃\u001b[1m \u001b[0m\u001b[1m      Param #\u001b[0m\u001b[1m \u001b[0m┃\n",
       "┡━━━━━━━━━━━━━━━━━━━━━━━━━━━━━━━━━╇━━━━━━━━━━━━━━━━━━━━━━━━╇━━━━━━━━━━━━━━━┩\n",
       "│ input_layer_12 (\u001b[38;5;33mInputLayer\u001b[0m)     │ (\u001b[38;5;45mNone\u001b[0m, \u001b[38;5;34m28\u001b[0m, \u001b[38;5;34m28\u001b[0m)         │             \u001b[38;5;34m0\u001b[0m │\n",
       "├─────────────────────────────────┼────────────────────────┼───────────────┤\n",
       "│ simple_rnn_11 (\u001b[38;5;33mSimpleRNN\u001b[0m)       │ (\u001b[38;5;45mNone\u001b[0m, \u001b[38;5;34m128\u001b[0m)            │        \u001b[38;5;34m20,096\u001b[0m │\n",
       "├─────────────────────────────────┼────────────────────────┼───────────────┤\n",
       "│ dense_10 (\u001b[38;5;33mDense\u001b[0m)                │ (\u001b[38;5;45mNone\u001b[0m, \u001b[38;5;34m10\u001b[0m)             │         \u001b[38;5;34m1,290\u001b[0m │\n",
       "└─────────────────────────────────┴────────────────────────┴───────────────┘\n"
      ]
     },
     "metadata": {},
     "output_type": "display_data"
    },
    {
     "data": {
      "text/html": [
       "<pre style=\"white-space:pre;overflow-x:auto;line-height:normal;font-family:Menlo,'DejaVu Sans Mono',consolas,'Courier New',monospace\"><span style=\"font-weight: bold\"> Total params: </span><span style=\"color: #00af00; text-decoration-color: #00af00\">21,386</span> (83.54 KB)\n",
       "</pre>\n"
      ],
      "text/plain": [
       "\u001b[1m Total params: \u001b[0m\u001b[38;5;34m21,386\u001b[0m (83.54 KB)\n"
      ]
     },
     "metadata": {},
     "output_type": "display_data"
    },
    {
     "data": {
      "text/html": [
       "<pre style=\"white-space:pre;overflow-x:auto;line-height:normal;font-family:Menlo,'DejaVu Sans Mono',consolas,'Courier New',monospace\"><span style=\"font-weight: bold\"> Trainable params: </span><span style=\"color: #00af00; text-decoration-color: #00af00\">21,386</span> (83.54 KB)\n",
       "</pre>\n"
      ],
      "text/plain": [
       "\u001b[1m Trainable params: \u001b[0m\u001b[38;5;34m21,386\u001b[0m (83.54 KB)\n"
      ]
     },
     "metadata": {},
     "output_type": "display_data"
    },
    {
     "data": {
      "text/html": [
       "<pre style=\"white-space:pre;overflow-x:auto;line-height:normal;font-family:Menlo,'DejaVu Sans Mono',consolas,'Courier New',monospace\"><span style=\"font-weight: bold\"> Non-trainable params: </span><span style=\"color: #00af00; text-decoration-color: #00af00\">0</span> (0.00 B)\n",
       "</pre>\n"
      ],
      "text/plain": [
       "\u001b[1m Non-trainable params: \u001b[0m\u001b[38;5;34m0\u001b[0m (0.00 B)\n"
      ]
     },
     "metadata": {},
     "output_type": "display_data"
    },
    {
     "name": "stdout",
     "output_type": "stream",
     "text": [
      "Epoch 1/10\n",
      "\u001b[1m375/375\u001b[0m \u001b[32m━━━━━━━━━━━━━━━━━━━━\u001b[0m\u001b[37m\u001b[0m \u001b[1m5s\u001b[0m 13ms/step - accuracy: 0.2451 - loss: 2.0298 - val_accuracy: 0.3708 - val_loss: 1.6530\n",
      "Epoch 2/10\n",
      "\u001b[1m375/375\u001b[0m \u001b[32m━━━━━━━━━━━━━━━━━━━━\u001b[0m\u001b[37m\u001b[0m \u001b[1m4s\u001b[0m 12ms/step - accuracy: 0.3896 - loss: 1.6512 - val_accuracy: 0.4653 - val_loss: 1.3938\n",
      "Epoch 3/10\n",
      "\u001b[1m375/375\u001b[0m \u001b[32m━━━━━━━━━━━━━━━━━━━━\u001b[0m\u001b[37m\u001b[0m \u001b[1m4s\u001b[0m 12ms/step - accuracy: 0.4657 - loss: 1.3912 - val_accuracy: 0.4788 - val_loss: 1.3192\n",
      "Epoch 4/10\n",
      "\u001b[1m375/375\u001b[0m \u001b[32m━━━━━━━━━━━━━━━━━━━━\u001b[0m\u001b[37m\u001b[0m \u001b[1m4s\u001b[0m 11ms/step - accuracy: 0.4873 - loss: 1.3332 - val_accuracy: 0.4818 - val_loss: 1.2860\n",
      "Epoch 5/10\n",
      "\u001b[1m375/375\u001b[0m \u001b[32m━━━━━━━━━━━━━━━━━━━━\u001b[0m\u001b[37m\u001b[0m \u001b[1m4s\u001b[0m 12ms/step - accuracy: 0.4984 - loss: 1.3009 - val_accuracy: 0.5002 - val_loss: 1.2649\n",
      "Epoch 6/10\n",
      "\u001b[1m375/375\u001b[0m \u001b[32m━━━━━━━━━━━━━━━━━━━━\u001b[0m\u001b[37m\u001b[0m \u001b[1m4s\u001b[0m 12ms/step - accuracy: 0.5084 - loss: 1.2753 - val_accuracy: 0.5215 - val_loss: 1.2153\n",
      "Epoch 7/10\n",
      "\u001b[1m375/375\u001b[0m \u001b[32m━━━━━━━━━━━━━━━━━━━━\u001b[0m\u001b[37m\u001b[0m \u001b[1m5s\u001b[0m 13ms/step - accuracy: 0.5202 - loss: 1.2377 - val_accuracy: 0.5228 - val_loss: 1.2035\n",
      "Epoch 8/10\n",
      "\u001b[1m375/375\u001b[0m \u001b[32m━━━━━━━━━━━━━━━━━━━━\u001b[0m\u001b[37m\u001b[0m \u001b[1m5s\u001b[0m 12ms/step - accuracy: 0.5262 - loss: 1.2178 - val_accuracy: 0.5297 - val_loss: 1.1856\n",
      "Epoch 9/10\n",
      "\u001b[1m375/375\u001b[0m \u001b[32m━━━━━━━━━━━━━━━━━━━━\u001b[0m\u001b[37m\u001b[0m \u001b[1m5s\u001b[0m 12ms/step - accuracy: 0.5255 - loss: 1.2049 - val_accuracy: 0.5338 - val_loss: 1.1773\n",
      "Epoch 10/10\n",
      "\u001b[1m375/375\u001b[0m \u001b[32m━━━━━━━━━━━━━━━━━━━━\u001b[0m\u001b[37m\u001b[0m \u001b[1m4s\u001b[0m 11ms/step - accuracy: 0.5394 - loss: 1.1927 - val_accuracy: 0.5347 - val_loss: 1.1644\n"
     ]
    },
    {
     "data": {
      "text/plain": [
       "<keras.src.callbacks.history.History at 0x11923d720>"
      ]
     },
     "execution_count": 25,
     "metadata": {},
     "output_type": "execute_result"
    }
   ],
   "source": [
    "# 定义一个 RNN 模型\n",
    "seq_len = 28\n",
    "input_size = 28\n",
    "hidden_size = 128\n",
    "output_size = 10\n",
    "\n",
    "inputs = tf.keras.Input(shape=(seq_len, input_size)) # 在 tf.keras.Input(...) 中的 shape 参数不应包括 batch_size，Keras 会自动推断批次大小。\n",
    "hidden = tf.keras.layers.SimpleRNN(\n",
    "\tunits=hidden_size,                        # 隐藏状态维度\n",
    "\tactivation='sigmoid',            # 激活函数（默认是 tanh）\n",
    "\treturn_sequences=False,       # 是否返回每个时间步的输出，还是只返回最后一个\n",
    "\treturn_state=False,           # 是否返回最后一个隐藏状态\n",
    "\tgo_backwards=False,           # 是否反向处理序列\n",
    "\tstateful=False,               # 是否保留状态（跨 batch）\n",
    "\tdropout=0.0,                  # 输入的 dropout\n",
    "\trecurrent_dropout=0.0         # 隐藏状态的 dropout\n",
    ")(inputs)\n",
    "\n",
    "outputs = tf.keras.layers.Dense(output_size)(hidden)\n",
    "\n",
    "model = tf.keras.Model(inputs, outputs)\n",
    "\n",
    "model.compile(optimizer='Adam', \n",
    "\t\t\t  loss=tf.keras.losses.SparseCategoricalCrossentropy(from_logits=True), \n",
    "\t\t\t  metrics=['accuracy']\n",
    "\t\t\t  )\n",
    "model.summary()\n",
    "\n",
    "model.fit(X_train, y_train, \n",
    "\t\t  validation_split=0.2, \n",
    "\t\t  verbose=1, \n",
    "\t\t  epochs=10, \n",
    "\t\t  batch_size=128\n",
    "\t\t  )"
   ]
  },
  {
   "cell_type": "code",
   "execution_count": null,
   "id": "fc6b3a95",
   "metadata": {},
   "outputs": [
    {
     "data": {
      "text/html": [
       "<pre style=\"white-space:pre;overflow-x:auto;line-height:normal;font-family:Menlo,'DejaVu Sans Mono',consolas,'Courier New',monospace\"><span style=\"font-weight: bold\">Model: \"sequential_7\"</span>\n",
       "</pre>\n"
      ],
      "text/plain": [
       "\u001b[1mModel: \"sequential_7\"\u001b[0m\n"
      ]
     },
     "metadata": {},
     "output_type": "display_data"
    },
    {
     "data": {
      "text/html": [
       "<pre style=\"white-space:pre;overflow-x:auto;line-height:normal;font-family:Menlo,'DejaVu Sans Mono',consolas,'Courier New',monospace\">┏━━━━━━━━━━━━━━━━━━━━━━━━━━━━━━━━━┳━━━━━━━━━━━━━━━━━━━━━━━━┳━━━━━━━━━━━━━━━┓\n",
       "┃<span style=\"font-weight: bold\"> Layer (type)                    </span>┃<span style=\"font-weight: bold\"> Output Shape           </span>┃<span style=\"font-weight: bold\">       Param # </span>┃\n",
       "┡━━━━━━━━━━━━━━━━━━━━━━━━━━━━━━━━━╇━━━━━━━━━━━━━━━━━━━━━━━━╇━━━━━━━━━━━━━━━┩\n",
       "│ simple_rnn_20 (<span style=\"color: #0087ff; text-decoration-color: #0087ff\">SimpleRNN</span>)       │ (<span style=\"color: #00d7ff; text-decoration-color: #00d7ff\">None</span>, <span style=\"color: #00af00; text-decoration-color: #00af00\">128</span>)            │        <span style=\"color: #00af00; text-decoration-color: #00af00\">20,096</span> │\n",
       "├─────────────────────────────────┼────────────────────────┼───────────────┤\n",
       "│ dense_18 (<span style=\"color: #0087ff; text-decoration-color: #0087ff\">Dense</span>)                │ (<span style=\"color: #00d7ff; text-decoration-color: #00d7ff\">None</span>, <span style=\"color: #00af00; text-decoration-color: #00af00\">10</span>)             │         <span style=\"color: #00af00; text-decoration-color: #00af00\">1,290</span> │\n",
       "└─────────────────────────────────┴────────────────────────┴───────────────┘\n",
       "</pre>\n"
      ],
      "text/plain": [
       "┏━━━━━━━━━━━━━━━━━━━━━━━━━━━━━━━━━┳━━━━━━━━━━━━━━━━━━━━━━━━┳━━━━━━━━━━━━━━━┓\n",
       "┃\u001b[1m \u001b[0m\u001b[1mLayer (type)                   \u001b[0m\u001b[1m \u001b[0m┃\u001b[1m \u001b[0m\u001b[1mOutput Shape          \u001b[0m\u001b[1m \u001b[0m┃\u001b[1m \u001b[0m\u001b[1m      Param #\u001b[0m\u001b[1m \u001b[0m┃\n",
       "┡━━━━━━━━━━━━━━━━━━━━━━━━━━━━━━━━━╇━━━━━━━━━━━━━━━━━━━━━━━━╇━━━━━━━━━━━━━━━┩\n",
       "│ simple_rnn_20 (\u001b[38;5;33mSimpleRNN\u001b[0m)       │ (\u001b[38;5;45mNone\u001b[0m, \u001b[38;5;34m128\u001b[0m)            │        \u001b[38;5;34m20,096\u001b[0m │\n",
       "├─────────────────────────────────┼────────────────────────┼───────────────┤\n",
       "│ dense_18 (\u001b[38;5;33mDense\u001b[0m)                │ (\u001b[38;5;45mNone\u001b[0m, \u001b[38;5;34m10\u001b[0m)             │         \u001b[38;5;34m1,290\u001b[0m │\n",
       "└─────────────────────────────────┴────────────────────────┴───────────────┘\n"
      ]
     },
     "metadata": {},
     "output_type": "display_data"
    },
    {
     "data": {
      "text/html": [
       "<pre style=\"white-space:pre;overflow-x:auto;line-height:normal;font-family:Menlo,'DejaVu Sans Mono',consolas,'Courier New',monospace\"><span style=\"font-weight: bold\"> Total params: </span><span style=\"color: #00af00; text-decoration-color: #00af00\">21,386</span> (83.54 KB)\n",
       "</pre>\n"
      ],
      "text/plain": [
       "\u001b[1m Total params: \u001b[0m\u001b[38;5;34m21,386\u001b[0m (83.54 KB)\n"
      ]
     },
     "metadata": {},
     "output_type": "display_data"
    },
    {
     "data": {
      "text/html": [
       "<pre style=\"white-space:pre;overflow-x:auto;line-height:normal;font-family:Menlo,'DejaVu Sans Mono',consolas,'Courier New',monospace\"><span style=\"font-weight: bold\"> Trainable params: </span><span style=\"color: #00af00; text-decoration-color: #00af00\">21,386</span> (83.54 KB)\n",
       "</pre>\n"
      ],
      "text/plain": [
       "\u001b[1m Trainable params: \u001b[0m\u001b[38;5;34m21,386\u001b[0m (83.54 KB)\n"
      ]
     },
     "metadata": {},
     "output_type": "display_data"
    },
    {
     "data": {
      "text/html": [
       "<pre style=\"white-space:pre;overflow-x:auto;line-height:normal;font-family:Menlo,'DejaVu Sans Mono',consolas,'Courier New',monospace\"><span style=\"font-weight: bold\"> Non-trainable params: </span><span style=\"color: #00af00; text-decoration-color: #00af00\">0</span> (0.00 B)\n",
       "</pre>\n"
      ],
      "text/plain": [
       "\u001b[1m Non-trainable params: \u001b[0m\u001b[38;5;34m0\u001b[0m (0.00 B)\n"
      ]
     },
     "metadata": {},
     "output_type": "display_data"
    },
    {
     "name": "stdout",
     "output_type": "stream",
     "text": [
      "Epoch 1/10\n",
      "\u001b[1m469/469\u001b[0m \u001b[32m━━━━━━━━━━━━━━━━━━━━\u001b[0m\u001b[37m\u001b[0m \u001b[1m4s\u001b[0m 8ms/step - accuracy: 0.2510 - loss: 2.0123 - val_accuracy: 0.3969 - val_loss: 1.6759\n",
      "Epoch 2/10\n",
      "\u001b[1m469/469\u001b[0m \u001b[32m━━━━━━━━━━━━━━━━━━━━\u001b[0m\u001b[37m\u001b[0m \u001b[1m4s\u001b[0m 8ms/step - accuracy: 0.4196 - loss: 1.5927 - val_accuracy: 0.4685 - val_loss: 1.3833\n",
      "Epoch 3/10\n",
      "\u001b[1m469/469\u001b[0m \u001b[32m━━━━━━━━━━━━━━━━━━━━\u001b[0m\u001b[37m\u001b[0m \u001b[1m4s\u001b[0m 8ms/step - accuracy: 0.4797 - loss: 1.3571 - val_accuracy: 0.4962 - val_loss: 1.3363\n",
      "Epoch 4/10\n",
      "\u001b[1m469/469\u001b[0m \u001b[32m━━━━━━━━━━━━━━━━━━━━\u001b[0m\u001b[37m\u001b[0m \u001b[1m3s\u001b[0m 7ms/step - accuracy: 0.4916 - loss: 1.3218 - val_accuracy: 0.5056 - val_loss: 1.2824\n",
      "Epoch 5/10\n",
      "\u001b[1m469/469\u001b[0m \u001b[32m━━━━━━━━━━━━━━━━━━━━\u001b[0m\u001b[37m\u001b[0m \u001b[1m3s\u001b[0m 7ms/step - accuracy: 0.5110 - loss: 1.2664 - val_accuracy: 0.5199 - val_loss: 1.2548\n",
      "Epoch 6/10\n",
      "\u001b[1m469/469\u001b[0m \u001b[32m━━━━━━━━━━━━━━━━━━━━\u001b[0m\u001b[37m\u001b[0m \u001b[1m4s\u001b[0m 8ms/step - accuracy: 0.5201 - loss: 1.2411 - val_accuracy: 0.5251 - val_loss: 1.2330\n",
      "Epoch 7/10\n",
      "\u001b[1m469/469\u001b[0m \u001b[32m━━━━━━━━━━━━━━━━━━━━\u001b[0m\u001b[37m\u001b[0m \u001b[1m4s\u001b[0m 8ms/step - accuracy: 0.5300 - loss: 1.2085 - val_accuracy: 0.5310 - val_loss: 1.2181\n",
      "Epoch 8/10\n",
      "\u001b[1m469/469\u001b[0m \u001b[32m━━━━━━━━━━━━━━━━━━━━\u001b[0m\u001b[37m\u001b[0m \u001b[1m3s\u001b[0m 7ms/step - accuracy: 0.5353 - loss: 1.1985 - val_accuracy: 0.5287 - val_loss: 1.2038\n",
      "Epoch 9/10\n",
      "\u001b[1m469/469\u001b[0m \u001b[32m━━━━━━━━━━━━━━━━━━━━\u001b[0m\u001b[37m\u001b[0m \u001b[1m4s\u001b[0m 8ms/step - accuracy: 0.5360 - loss: 1.1790 - val_accuracy: 0.5310 - val_loss: 1.1993\n",
      "Epoch 10/10\n",
      "\u001b[1m469/469\u001b[0m \u001b[32m━━━━━━━━━━━━━━━━━━━━\u001b[0m\u001b[37m\u001b[0m \u001b[1m4s\u001b[0m 8ms/step - accuracy: 0.5345 - loss: 1.1786 - val_accuracy: 0.5372 - val_loss: 1.1895\n"
     ]
    },
    {
     "data": {
      "text/plain": [
       "<keras.src.callbacks.history.History at 0x3104b8520>"
      ]
     },
     "execution_count": 35,
     "metadata": {},
     "output_type": "execute_result"
    }
   ],
   "source": [
    "# 定义一个 RNN 模型\n",
    "seq_len = 28\n",
    "input_size = 28\n",
    "hidden_size = 128\n",
    "output_size = 10\n",
    "\n",
    "model = tf.keras.Sequential([\n",
    "\ttf.keras.Input(shape=(seq_len, input_size)),\n",
    "\ttf.keras.layers.SimpleRNN(\n",
    "\t\tunits=hidden_size,\n",
    "\t\tactivation='sigmoid',\n",
    "\t\treturn_state=False,\n",
    "\t\treturn_sequences=False\n",
    "\t),\n",
    "\ttf.keras.layers.Dense(output_size)\n",
    "])\n",
    "\n",
    "model.compile(optimizer='adam', \n",
    "\t\t\t  loss=tf.keras.losses.SparseCategoricalCrossentropy(from_logits=True), \n",
    "\t\t\t  metrics=['accuracy']\n",
    "\t\t\t  )\n",
    "model.summary()\n",
    "\n",
    "\n",
    "model.fit(X_train, y_train, \n",
    "\t\t  validation_data=(X_test, y_test), \n",
    "\t\t  verbose=1, \n",
    "\t\t  epochs=10, \n",
    "\t\t  batch_size=128\n",
    "\t\t  )"
   ]
  },
  {
   "cell_type": "code",
   "execution_count": null,
   "id": "d64b955f",
   "metadata": {},
   "outputs": [
    {
     "data": {
      "text/html": [
       "<pre style=\"white-space:pre;overflow-x:auto;line-height:normal;font-family:Menlo,'DejaVu Sans Mono',consolas,'Courier New',monospace\"><span style=\"font-weight: bold\">Model: \"simple_rnn_46\"</span>\n",
       "</pre>\n"
      ],
      "text/plain": [
       "\u001b[1mModel: \"simple_rnn_46\"\u001b[0m\n"
      ]
     },
     "metadata": {},
     "output_type": "display_data"
    },
    {
     "data": {
      "text/html": [
       "<pre style=\"white-space:pre;overflow-x:auto;line-height:normal;font-family:Menlo,'DejaVu Sans Mono',consolas,'Courier New',monospace\">┏━━━━━━━━━━━━━━━━━━━━━━━━━━━━━━━━━┳━━━━━━━━━━━━━━━━━━━━━━━━┳━━━━━━━━━━━━━━━┓\n",
       "┃<span style=\"font-weight: bold\"> Layer (type)                    </span>┃<span style=\"font-weight: bold\"> Output Shape           </span>┃<span style=\"font-weight: bold\">       Param # </span>┃\n",
       "┡━━━━━━━━━━━━━━━━━━━━━━━━━━━━━━━━━╇━━━━━━━━━━━━━━━━━━━━━━━━╇━━━━━━━━━━━━━━━┩\n",
       "│ simple_rnn_47 (<span style=\"color: #0087ff; text-decoration-color: #0087ff\">SimpleRNN</span>)       │ ?                      │   <span style=\"color: #00af00; text-decoration-color: #00af00\">0</span> (unbuilt) │\n",
       "├─────────────────────────────────┼────────────────────────┼───────────────┤\n",
       "│ dense_33 (<span style=\"color: #0087ff; text-decoration-color: #0087ff\">Dense</span>)                │ ?                      │   <span style=\"color: #00af00; text-decoration-color: #00af00\">0</span> (unbuilt) │\n",
       "└─────────────────────────────────┴────────────────────────┴───────────────┘\n",
       "</pre>\n"
      ],
      "text/plain": [
       "┏━━━━━━━━━━━━━━━━━━━━━━━━━━━━━━━━━┳━━━━━━━━━━━━━━━━━━━━━━━━┳━━━━━━━━━━━━━━━┓\n",
       "┃\u001b[1m \u001b[0m\u001b[1mLayer (type)                   \u001b[0m\u001b[1m \u001b[0m┃\u001b[1m \u001b[0m\u001b[1mOutput Shape          \u001b[0m\u001b[1m \u001b[0m┃\u001b[1m \u001b[0m\u001b[1m      Param #\u001b[0m\u001b[1m \u001b[0m┃\n",
       "┡━━━━━━━━━━━━━━━━━━━━━━━━━━━━━━━━━╇━━━━━━━━━━━━━━━━━━━━━━━━╇━━━━━━━━━━━━━━━┩\n",
       "│ simple_rnn_47 (\u001b[38;5;33mSimpleRNN\u001b[0m)       │ ?                      │   \u001b[38;5;34m0\u001b[0m (unbuilt) │\n",
       "├─────────────────────────────────┼────────────────────────┼───────────────┤\n",
       "│ dense_33 (\u001b[38;5;33mDense\u001b[0m)                │ ?                      │   \u001b[38;5;34m0\u001b[0m (unbuilt) │\n",
       "└─────────────────────────────────┴────────────────────────┴───────────────┘\n"
      ]
     },
     "metadata": {},
     "output_type": "display_data"
    },
    {
     "data": {
      "text/html": [
       "<pre style=\"white-space:pre;overflow-x:auto;line-height:normal;font-family:Menlo,'DejaVu Sans Mono',consolas,'Courier New',monospace\"><span style=\"font-weight: bold\"> Total params: </span><span style=\"color: #00af00; text-decoration-color: #00af00\">0</span> (0.00 B)\n",
       "</pre>\n"
      ],
      "text/plain": [
       "\u001b[1m Total params: \u001b[0m\u001b[38;5;34m0\u001b[0m (0.00 B)\n"
      ]
     },
     "metadata": {},
     "output_type": "display_data"
    },
    {
     "data": {
      "text/html": [
       "<pre style=\"white-space:pre;overflow-x:auto;line-height:normal;font-family:Menlo,'DejaVu Sans Mono',consolas,'Courier New',monospace\"><span style=\"font-weight: bold\"> Trainable params: </span><span style=\"color: #00af00; text-decoration-color: #00af00\">0</span> (0.00 B)\n",
       "</pre>\n"
      ],
      "text/plain": [
       "\u001b[1m Trainable params: \u001b[0m\u001b[38;5;34m0\u001b[0m (0.00 B)\n"
      ]
     },
     "metadata": {},
     "output_type": "display_data"
    },
    {
     "data": {
      "text/html": [
       "<pre style=\"white-space:pre;overflow-x:auto;line-height:normal;font-family:Menlo,'DejaVu Sans Mono',consolas,'Courier New',monospace\"><span style=\"font-weight: bold\"> Non-trainable params: </span><span style=\"color: #00af00; text-decoration-color: #00af00\">0</span> (0.00 B)\n",
       "</pre>\n"
      ],
      "text/plain": [
       "\u001b[1m Non-trainable params: \u001b[0m\u001b[38;5;34m0\u001b[0m (0.00 B)\n"
      ]
     },
     "metadata": {},
     "output_type": "display_data"
    },
    {
     "name": "stdout",
     "output_type": "stream",
     "text": [
      "Epoch 1/10\n",
      "\u001b[1m469/469\u001b[0m \u001b[32m━━━━━━━━━━━━━━━━━━━━\u001b[0m\u001b[37m\u001b[0m \u001b[1m7s\u001b[0m 13ms/step - accuracy: 0.2557 - loss: 1.9863 - val_accuracy: 0.3838 - val_loss: 1.6714\n",
      "Epoch 2/10\n",
      "\u001b[1m469/469\u001b[0m \u001b[32m━━━━━━━━━━━━━━━━━━━━\u001b[0m\u001b[37m\u001b[0m \u001b[1m5s\u001b[0m 12ms/step - accuracy: 0.4235 - loss: 1.5708 - val_accuracy: 0.4703 - val_loss: 1.3875\n",
      "Epoch 3/10\n",
      "\u001b[1m469/469\u001b[0m \u001b[32m━━━━━━━━━━━━━━━━━━━━\u001b[0m\u001b[37m\u001b[0m \u001b[1m5s\u001b[0m 11ms/step - accuracy: 0.4736 - loss: 1.3509 - val_accuracy: 0.4929 - val_loss: 1.3201\n",
      "Epoch 4/10\n",
      "\u001b[1m469/469\u001b[0m \u001b[32m━━━━━━━━━━━━━━━━━━━━\u001b[0m\u001b[37m\u001b[0m \u001b[1m5s\u001b[0m 10ms/step - accuracy: 0.4955 - loss: 1.3033 - val_accuracy: 0.5087 - val_loss: 1.2875\n",
      "Epoch 5/10\n",
      "\u001b[1m469/469\u001b[0m \u001b[32m━━━━━━━━━━━━━━━━━━━━\u001b[0m\u001b[37m\u001b[0m \u001b[1m6s\u001b[0m 14ms/step - accuracy: 0.5121 - loss: 1.2518 - val_accuracy: 0.5202 - val_loss: 1.2334\n",
      "Epoch 6/10\n",
      "\u001b[1m469/469\u001b[0m \u001b[32m━━━━━━━━━━━━━━━━━━━━\u001b[0m\u001b[37m\u001b[0m \u001b[1m7s\u001b[0m 15ms/step - accuracy: 0.5230 - loss: 1.2209 - val_accuracy: 0.5258 - val_loss: 1.2226\n",
      "Epoch 7/10\n",
      "\u001b[1m469/469\u001b[0m \u001b[32m━━━━━━━━━━━━━━━━━━━━\u001b[0m\u001b[37m\u001b[0m \u001b[1m8s\u001b[0m 16ms/step - accuracy: 0.5336 - loss: 1.2000 - val_accuracy: 0.5249 - val_loss: 1.2086\n",
      "Epoch 8/10\n",
      "\u001b[1m469/469\u001b[0m \u001b[32m━━━━━━━━━━━━━━━━━━━━\u001b[0m\u001b[37m\u001b[0m \u001b[1m9s\u001b[0m 18ms/step - accuracy: 0.5404 - loss: 1.1829 - val_accuracy: 0.5384 - val_loss: 1.1896\n",
      "Epoch 9/10\n",
      "\u001b[1m469/469\u001b[0m \u001b[32m━━━━━━━━━━━━━━━━━━━━\u001b[0m\u001b[37m\u001b[0m \u001b[1m10s\u001b[0m 21ms/step - accuracy: 0.5400 - loss: 1.1672 - val_accuracy: 0.5371 - val_loss: 1.1804\n",
      "Epoch 10/10\n",
      "\u001b[1m469/469\u001b[0m \u001b[32m━━━━━━━━━━━━━━━━━━━━\u001b[0m\u001b[37m\u001b[0m \u001b[1m10s\u001b[0m 22ms/step - accuracy: 0.5383 - loss: 1.1703 - val_accuracy: 0.5361 - val_loss: 1.1888\n"
     ]
    },
    {
     "data": {
      "text/plain": [
       "<keras.src.callbacks.history.History at 0x3080ed7e0>"
      ]
     },
     "execution_count": 56,
     "metadata": {},
     "output_type": "execute_result"
    }
   ],
   "source": [
    "class SimpleRNN(tf.keras.Model):\n",
    "\tdef __init__(self, hidden_size, output_size):\n",
    "\t\tsuper().__init__() # 容易漏掉继承父类的初始化！\n",
    "\t\t# self.input = tf.keras.Input(shape=(seq_len, input_size)) # 不能在继承类中定义 input 层\n",
    "\t\tself.rnn = tf.keras.layers.SimpleRNN(\n",
    "\t\t\tunits=hidden_size,\n",
    "\t\t\tactivation='sigmoid',\n",
    "\t\t\treturn_state=False,\n",
    "\t\t\treturn_sequences=False,\n",
    "\t\t\tdropout=0,\n",
    "\t\t\trecurrent_dropout=0\n",
    "\t\t)\n",
    "\t\tself.dense = tf.keras.layers.Dense(output_size)\n",
    "\n",
    "\tdef call(self, x):\n",
    "\t\t\toutputs = self.rnn(x)\n",
    "\t\t\toutputs = self.dense(outputs)\n",
    "\t\t\treturn outputs\n",
    "\n",
    "model = SimpleRNN(hidden_size=hidden_size, output_size=output_size)\n",
    "model.compile(optimizer='adam',\n",
    "\t\t\t  loss=tf.keras.losses.SparseCategoricalCrossentropy(from_logits=True),\n",
    "\t\t\t  metrics=['accuracy']\n",
    "\t\t\t  )\n",
    "model.summary()\n",
    "\n",
    "model.fit(X_train, y_train, \n",
    "\t\t  validation_data=(X_test, y_test), \n",
    "\t\t  verbose=1, \n",
    "\t\t  epochs=10, \n",
    "\t\t  batch_size=128\n",
    "\t\t  )"
   ]
  },
  {
   "cell_type": "code",
   "execution_count": null,
   "id": "d18c6db2",
   "metadata": {},
   "outputs": [],
   "source": []
  },
  {
   "cell_type": "code",
   "execution_count": null,
   "id": "f4d8aa73",
   "metadata": {},
   "outputs": [
    {
     "data": {
      "text/plain": [
       "<tf.Tensor: shape=(4, 1), dtype=float32, numpy=\n",
       "array([[ 1.1668855 ],\n",
       "       [ 0.16951352],\n",
       "       [-0.5488201 ],\n",
       "       [-0.40721592]], dtype=float32)>"
      ]
     },
     "execution_count": 77,
     "metadata": {},
     "output_type": "execute_result"
    }
   ],
   "source": [
    "class MyLayer(tf.keras.Layer):\n",
    "\tdef __init__(self, output_dim):\n",
    "\t\tsuper().__init__()\n",
    "\t\tself.output_dim = output_dim\n",
    "\t\n",
    "\tdef build(self, input_dim):\n",
    "\t\t\tself.weight = self.add_weight(\n",
    "\t\t\tshape=(input_dim[-1], self.output_dim),\n",
    "\t\t\tinitializer='glorot_normal',\n",
    "\t\t\ttrainable=True\n",
    "\t\t\t)\n",
    "\t\t\tself.bias = self.add_weight(\n",
    "\t\t\t\tshape=(self.output_dim, ),\n",
    "\t\t\t\tinitializer='zeros',\n",
    "\t\t\t\ttrainable=True\n",
    "\t\t\t)\n",
    "\t\t\n",
    "\tdef call(self, x):\n",
    "\t\treturn tf.matmul(x, self.weight) + self.bias\n",
    "\t\n",
    "# 示例\n",
    "layer = MyLayer(output_dim=1)\n",
    "x = tf.random.normal((4, 10), 0, 1)\n",
    "layer.build((4, 10))\n",
    "layer(x)"
   ]
  },
  {
   "cell_type": "code",
   "execution_count": 194,
   "id": "427e878a",
   "metadata": {},
   "outputs": [
    {
     "data": {
      "text/plain": [
       "<tf.Tensor: shape=(2, 10), dtype=float32, numpy=\n",
       "array([[-0.33602533,  0.8466051 , -0.34166494, -0.41397402, -0.389801  ,\n",
       "        -0.12300692,  0.66592544, -0.48977906,  1.0315523 ,  1.455004  ],\n",
       "       [-0.5241675 ,  0.5626367 , -0.6679411 , -0.28649136, -0.3787795 ,\n",
       "         0.81874186,  1.1080695 , -0.49634784,  0.5360158 ,  2.151848  ]],\n",
       "      dtype=float32)>"
      ]
     },
     "execution_count": 194,
     "metadata": {},
     "output_type": "execute_result"
    }
   ],
   "source": [
    "class MyRNN(tf.keras.Layer):\n",
    "\tdef __init__(self, hidden_size, output_size):\n",
    "\t\tsuper().__init__()\n",
    "\t\tself.hidden_size = hidden_size\n",
    "\t\tself.output_size = output_size\n",
    "\t\n",
    "\tdef build(self, input_shape):\n",
    "\t\tself.Wxh = self.add_weight(\n",
    "\t\t\tshape=(input_shape[-1], self.hidden_size),\n",
    "\t\t\tinitializer='glorot_normal',\n",
    "\t\t\ttrainable=True\n",
    "\t\t)\n",
    "\n",
    "\t\tself.Whh = self.add_weight(\n",
    "\t\t\tshape=(self.hidden_size, self.hidden_size),\n",
    "\t\t\tinitializer='glorot_normal',\n",
    "\t\t\ttrainable=True\n",
    "\t\t)\n",
    "\n",
    "\t\tself.Why = self.add_weight(\n",
    "\t\t\tshape=(self.hidden_size, self.output_size),\n",
    "\t\t\tinitializer='glorot_normal',\n",
    "\t\t\ttrainable=True\n",
    "\t\t)\n",
    "\n",
    "\t\tself.bxh = self.add_weight(\n",
    "\t\t\tshape=(self.hidden_size, ),\n",
    "\t\t\tinitializer='zeros',\n",
    "\t\t\ttrainable=True\n",
    "\t\t)\n",
    "\n",
    "\t\tself.bhy = self.add_weight(\n",
    "\t\t\tshape=(self.output_size, ),\n",
    "\t\t\tinitializer='zeros',\n",
    "\t\t\ttrainable=True\n",
    "\t\t)\n",
    "\t\t\n",
    "\t# @tf.function # 关键一步\n",
    "\t# def call(self, X):\n",
    "\t# \tbatch_size = tf.shape(X)[0]\n",
    "\t# \tseq_len = tf.shape(X)[1]\n",
    "\t# \th = tf.zeros((batch_size, self.hidden_size)) # 注意隐藏层维度\n",
    "\t# \tfor t in tf.range(seq_len):\n",
    "\t# \t\txt = X[:, t, :]\n",
    "\t# \t\th = tf.sigmoid(tf.matmul(xt, self.Wxh) + tf.matmul(h, self.Whh) + self.bxh)\n",
    "\t\t\n",
    "\t# \toutputs = tf.matmul(h,self.Why) + self.bhy\n",
    "\t\t\n",
    "\t# \treturn outputs\n",
    "\n",
    "\t@tf.function # 关键一步\n",
    "\tdef call(self, X):\n",
    "\t\tbatch_size = tf.shape(X)[0]\n",
    "\t\tseq_len = tf.shape(X)[1]\n",
    "\t\th = tf.zeros((batch_size, self.hidden_size)) # 注意隐藏层维度\n",
    "\t\tfor t in tf.range(seq_len):\n",
    "\t\t\txt = X[:, t, :]\n",
    "\t\t\th = tf.sigmoid(tf.matmul(xt, self.Wxh) + tf.matmul(h, self.Whh) + self.bxh)\n",
    "\t\t\n",
    "\t\toutputs = tf.matmul(h,self.Why) + self.bhy\n",
    "\t\t\n",
    "\t\treturn outputs\n",
    "\t# def call(self, X):\n",
    "\t# \tbatch_size = tf.shape(X)[0]\n",
    "\t# \tseq_len = tf.shape(X)[1]\n",
    "\t# \th = tf.zeros((batch_size, self.hidden_size))\n",
    "\t\t\n",
    "\t# \t# 定义循环体函数\n",
    "\t# \tdef body(t, h):\n",
    "\t# \t\txt = X[:, t, :]\n",
    "\t# \t\th_new = tf.sigmoid(tf.matmul(xt, self.Wxh) + tf.matmul(h, self.Whh) + self.bxh)\n",
    "\t# \t\treturn t + 1, h_new\n",
    "\t\t\n",
    "\t# \t# 定义条件函数\n",
    "\t# \tdef cond(t, h):\n",
    "\t# \t\treturn t < seq_len\n",
    "\t\t\n",
    "\t# \t# 执行 while_loop\n",
    "\t# \t# 返回值为 (final_t, final_h)，我们只需要 final_h\n",
    "\t# \t_, final_h = tf.while_loop(\n",
    "\t# \t\tcond=cond,\n",
    "\t# \t\tbody=body,\n",
    "\t# \t\tloop_vars=[tf.constant(0), h],\n",
    "\t# \t\tparallel_iterations=1  # 按顺序处理时间步\n",
    "\t# \t)\n",
    "\t\t\n",
    "\t# \toutputs = tf.matmul(final_h, self.Why) + self.bhy\n",
    "\t# \treturn outputs\n",
    "# 示例\n",
    "x = tf.random.normal((2, 28, 28), 0, 1)\n",
    "myrnn = MyRNN(hidden_size=128, output_size=10)\n",
    "myrnn(x)"
   ]
  },
  {
   "cell_type": "code",
   "execution_count": 195,
   "id": "628ab939",
   "metadata": {},
   "outputs": [
    {
     "name": "stdout",
     "output_type": "stream",
     "text": [
      "Epoch 1/10\n",
      "\u001b[1m469/469\u001b[0m \u001b[32m━━━━━━━━━━━━━━━━━━━━\u001b[0m\u001b[37m\u001b[0m \u001b[1m5s\u001b[0m 10ms/step - accuracy: 0.2477 - loss: 2.0297 - val_accuracy: 0.3646 - val_loss: 1.6723\n",
      "Epoch 2/10\n",
      "\u001b[1m469/469\u001b[0m \u001b[32m━━━━━━━━━━━━━━━━━━━━\u001b[0m\u001b[37m\u001b[0m \u001b[1m4s\u001b[0m 9ms/step - accuracy: 0.4228 - loss: 1.5753 - val_accuracy: 0.4649 - val_loss: 1.3820\n",
      "Epoch 3/10\n",
      "\u001b[1m469/469\u001b[0m \u001b[32m━━━━━━━━━━━━━━━━━━━━\u001b[0m\u001b[37m\u001b[0m \u001b[1m4s\u001b[0m 9ms/step - accuracy: 0.4871 - loss: 1.3397 - val_accuracy: 0.4990 - val_loss: 1.3030\n",
      "Epoch 4/10\n",
      "\u001b[1m469/469\u001b[0m \u001b[32m━━━━━━━━━━━━━━━━━━━━\u001b[0m\u001b[37m\u001b[0m \u001b[1m4s\u001b[0m 9ms/step - accuracy: 0.5121 - loss: 1.2743 - val_accuracy: 0.5109 - val_loss: 1.2511\n",
      "Epoch 5/10\n",
      "\u001b[1m469/469\u001b[0m \u001b[32m━━━━━━━━━━━━━━━━━━━━\u001b[0m\u001b[37m\u001b[0m \u001b[1m4s\u001b[0m 9ms/step - accuracy: 0.5240 - loss: 1.2277 - val_accuracy: 0.5199 - val_loss: 1.2371\n",
      "Epoch 6/10\n",
      "\u001b[1m469/469\u001b[0m \u001b[32m━━━━━━━━━━━━━━━━━━━━\u001b[0m\u001b[37m\u001b[0m \u001b[1m4s\u001b[0m 9ms/step - accuracy: 0.5327 - loss: 1.2087 - val_accuracy: 0.5333 - val_loss: 1.2106\n",
      "Epoch 7/10\n",
      "\u001b[1m469/469\u001b[0m \u001b[32m━━━━━━━━━━━━━━━━━━━━\u001b[0m\u001b[37m\u001b[0m \u001b[1m4s\u001b[0m 9ms/step - accuracy: 0.5323 - loss: 1.1984 - val_accuracy: 0.5346 - val_loss: 1.2014\n",
      "Epoch 8/10\n",
      "\u001b[1m469/469\u001b[0m \u001b[32m━━━━━━━━━━━━━━━━━━━━\u001b[0m\u001b[37m\u001b[0m \u001b[1m4s\u001b[0m 9ms/step - accuracy: 0.5414 - loss: 1.1767 - val_accuracy: 0.5392 - val_loss: 1.1852\n",
      "Epoch 9/10\n",
      "\u001b[1m469/469\u001b[0m \u001b[32m━━━━━━━━━━━━━━━━━━━━\u001b[0m\u001b[37m\u001b[0m \u001b[1m4s\u001b[0m 9ms/step - accuracy: 0.5434 - loss: 1.1661 - val_accuracy: 0.5448 - val_loss: 1.1709\n",
      "Epoch 10/10\n",
      "\u001b[1m469/469\u001b[0m \u001b[32m━━━━━━━━━━━━━━━━━━━━\u001b[0m\u001b[37m\u001b[0m \u001b[1m4s\u001b[0m 8ms/step - accuracy: 0.5455 - loss: 1.1574 - val_accuracy: 0.5427 - val_loss: 1.1681\n"
     ]
    },
    {
     "data": {
      "text/plain": [
       "<keras.src.callbacks.history.History at 0x11c3a9db0>"
      ]
     },
     "execution_count": 195,
     "metadata": {},
     "output_type": "execute_result"
    }
   ],
   "source": [
    "inputs = tf.keras.Input(shape=(seq_len, input_size))\n",
    "outputs = MyRNN(hidden_size=128, output_size=10)(inputs) \n",
    "\n",
    "model = tf.keras.Model(inputs, outputs)\n",
    "model.compile(optimizer='adam', loss=tf.keras.losses.SparseCategoricalCrossentropy(from_logits=True), metrics=['accuracy'])\n",
    "model.fit(X_train, y_train, epochs=10, batch_size=128, validation_data=(X_test, y_test), verbose=1)"
   ]
  }
 ],
 "metadata": {
  "kernelspec": {
   "display_name": "dl",
   "language": "python",
   "name": "python3"
  },
  "language_info": {
   "codemirror_mode": {
    "name": "ipython",
    "version": 3
   },
   "file_extension": ".py",
   "mimetype": "text/x-python",
   "name": "python",
   "nbconvert_exporter": "python",
   "pygments_lexer": "ipython3",
   "version": "3.10.18"
  }
 },
 "nbformat": 4,
 "nbformat_minor": 5
}
