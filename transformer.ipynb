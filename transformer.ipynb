{
 "cells": [
  {
   "cell_type": "code",
   "execution_count": 1,
   "id": "67ad9894",
   "metadata": {},
   "outputs": [],
   "source": [
    "import tensorflow as tf\n",
    "from tensorflow.keras.datasets import mnist\n",
    "\n",
    "import numpy as np"
   ]
  },
  {
   "cell_type": "code",
   "execution_count": 2,
   "id": "ff01c965",
   "metadata": {},
   "outputs": [],
   "source": [
    "tf.random.set_seed(42)\n",
    "\n",
    "(X_train, y_train), (X_test, y_test) = mnist.load_data()\n",
    "\n",
    "train_dataset = tf.data.Dataset.from_tensor_slices((X_train, y_train)).shuffle(buffer_size=1024).batch(batch_size=256)\n",
    "test_dataset = tf.data.Dataset.from_tensor_slices((X_test, y_test)).batch(batch_size=256)"
   ]
  },
  {
   "cell_type": "code",
   "execution_count": 3,
   "id": "c913b71f",
   "metadata": {},
   "outputs": [
    {
     "data": {
      "text/plain": [
       "<tf.Tensor: shape=(4, 10), dtype=float32, numpy=\n",
       "array([[ 0.0000000e+00,  1.0000000e+00,  0.0000000e+00,  1.0000000e+00,\n",
       "         0.0000000e+00,  1.0000000e+00,  0.0000000e+00,  1.0000000e+00,\n",
       "         0.0000000e+00,  1.0000000e+00],\n",
       "       [ 8.4147096e-01,  5.4030228e-01,  1.5782665e-01,  9.8746681e-01,\n",
       "         2.5116222e-02,  9.9968451e-01,  3.9810613e-03,  9.9999207e-01,\n",
       "         6.3095731e-04,  9.9999982e-01],\n",
       "       [ 9.0929741e-01, -4.1614684e-01,  3.1169716e-01,  9.5018148e-01,\n",
       "         5.0216600e-02,  9.9873835e-01,  7.9620592e-03,  9.9996829e-01,\n",
       "         1.2619144e-03,  9.9999923e-01],\n",
       "       [ 1.4112000e-01, -9.8999250e-01,  4.5775455e-01,  8.8907862e-01,\n",
       "         7.5285293e-02,  9.9716204e-01,  1.1942931e-02,  9.9992865e-01,\n",
       "         1.8928709e-03,  9.9999821e-01]], dtype=float32)>"
      ]
     },
     "execution_count": 3,
     "metadata": {},
     "output_type": "execute_result"
    }
   ],
   "source": [
    "# 定义一个位置编码函数\n",
    "def position_encoding(seq_len, d_model):\n",
    "\tencoding = np.zeros((seq_len, d_model))\n",
    "\tpos = np.reshape(np.arange(seq_len), (-1, 1))\n",
    "\tdiv_term = 10000 ** (2 * np.floor(np.arange(d_model) / 2) / d_model)\n",
    "\tencoding[:, 0::2] = np.sin(pos / div_term[0::2])\n",
    "\tencoding[:, 1::2] = np.cos(pos / div_term[1::2])\n",
    "\n",
    "\treturn tf.cast(encoding, tf.float32)\n",
    "\n",
    "# 示例\n",
    "position_encoding(4, 10)"
   ]
  },
  {
   "cell_type": "code",
   "execution_count": 4,
   "id": "dba26f6c",
   "metadata": {},
   "outputs": [
    {
     "data": {
      "text/plain": [
       "<tf.Tensor: shape=(2, 5, 512), dtype=float32, numpy=\n",
       "array([[[-6.74563527e-01, -2.25118384e-01, -2.73084670e-01, ...,\n",
       "          3.74144316e-03, -1.45801395e-01,  1.79100558e-01],\n",
       "        [-2.44295210e-01,  2.21353039e-01, -2.83471286e-01, ...,\n",
       "          3.70672047e-01, -5.63003719e-01, -3.71754676e-01],\n",
       "        [ 2.48779356e-02,  3.21374118e-01,  8.96210074e-01, ...,\n",
       "          6.12242401e-01,  6.29714608e-01, -8.74842286e-01],\n",
       "        [-9.93932724e-01,  1.01466686e-01, -2.61080772e-01, ...,\n",
       "         -8.55647206e-01, -4.58812773e-01, -2.62865216e-01],\n",
       "        [-7.72614717e-01, -4.85290945e-01,  3.75694782e-01, ...,\n",
       "         -3.56333852e-02,  2.76163280e-01,  1.04431227e-01]],\n",
       "\n",
       "       [[-5.41567862e-01,  4.23610359e-01,  3.58521938e-05, ...,\n",
       "          8.30780327e-01,  3.47328186e-01,  3.77032101e-01],\n",
       "        [ 3.72637808e-03,  8.83038878e-01, -6.69075549e-02, ...,\n",
       "          7.27783442e-01,  3.68383348e-01,  6.68810606e-02],\n",
       "        [ 9.03029144e-02,  1.09662676e+00,  1.35017142e-01, ...,\n",
       "         -3.19481343e-01, -4.33452278e-02,  7.02134073e-01],\n",
       "        [-4.93734807e-01,  1.00024760e-01, -7.94358313e-01, ...,\n",
       "          1.77560732e-01,  9.95433092e-01, -3.58112276e-01],\n",
       "        [-1.02721289e-01,  1.55515075e-01, -1.14150441e+00, ...,\n",
       "          4.18718487e-01,  9.43714738e-01, -1.18161142e-02]]],\n",
       "      dtype=float32)>"
      ]
     },
     "execution_count": 4,
     "metadata": {},
     "output_type": "execute_result"
    }
   ],
   "source": [
    "# 定义 MHA 自注意力机制\n",
    "\n",
    "class MHA(tf.keras.layers.Layer):\n",
    "\tdef __init__(self, seq_len, d_model, n_head):\n",
    "\t\tsuper(MHA, self).__init__()\n",
    "\t\tself.seq_len = seq_len\n",
    "\t\tself.d_model = d_model\n",
    "\t\tself.n_head = n_head\n",
    "\t\tself.d_head = d_model // n_head\n",
    "\n",
    "\t\tself.Wq = tf.keras.layers.Dense(self.d_model)\n",
    "\t\tself.Wk = tf.keras.layers.Dense(self.d_model)\n",
    "\t\tself.Wv = tf.keras.layers.Dense(self.d_model)\n",
    "\n",
    "\t\tself.dense = tf.keras.layers.Dense(d_model)\n",
    "\n",
    "\tdef split(self, x, batch_size):\n",
    "\t\tx = tf.reshape(x, (batch_size, self.seq_len, self.n_head, self.d_head))\n",
    "\n",
    "\t\treturn tf.transpose(x, (0, 2, 1, 3)) \n",
    "\t\n",
    "\tdef call(self, x):\n",
    "\t\tbatch_size = tf.shape(x)[0]\n",
    "\n",
    "\t\tq = self.Wq(x)\n",
    "\t\tk = self.Wk(x)\n",
    "\t\tv = self.Wv(x)\n",
    "\n",
    "\t\tq = self.split(q, batch_size) # batch_size, n_head, seq_len, d_head\n",
    "\t\tk = self.split(k, batch_size) # batch_size, n_head, seq_len, d_head\n",
    "\t\tv = self.split(v, batch_size) # batch_size, n_head, seq_len, d_head\n",
    "\n",
    "\t\tqk = tf.matmul(q, tf.transpose(k, (0, 1, 3, 2))) / tf.sqrt(tf.cast(tf.shape(k)[-1], tf.float32))\n",
    "\t\tqk_softmax = tf.nn.softmax(qk, axis=-1)\n",
    "\n",
    "\t\tres = tf.matmul(qk_softmax, v) # batch_size, n_head, seq_len, d_head\n",
    "\t\tres = tf.transpose(res, (0, 2, 1, 3)) # batch_size, seq_len, n_head, d_head\n",
    "\t\tres = tf.reshape(res, (batch_size, self.seq_len, -1))\n",
    "\n",
    "\t\treturn self.dense(res)\n",
    "\t\n",
    "# 示例\n",
    "\n",
    "layer = MHA(seq_len=5, d_model=512, n_head=8)\n",
    "x = tf.random.normal((2, 5, 512))\n",
    "layer(x)"
   ]
  },
  {
   "cell_type": "code",
   "execution_count": 5,
   "id": "0b587940",
   "metadata": {},
   "outputs": [],
   "source": [
    "# 定义残差链接和层归一化\n",
    "\n",
    "class AddNorm(tf.keras.layers.Layer):\n",
    "\tdef __init__(self, epsilon=1e-6):\n",
    "\t\tsuper().__init__()\n",
    "\t\tself.norm = tf.keras.layers.LayerNormalization(epsilon=epsilon)\n",
    "\t\n",
    "\tdef call(self, x, sublayer_output):\n",
    "\t\treturn self.norm(x + sublayer_output)"
   ]
  },
  {
   "cell_type": "code",
   "execution_count": 6,
   "id": "ecbe5a75",
   "metadata": {},
   "outputs": [],
   "source": [
    "# 定义FFN\n",
    "class FFN(tf.keras.layers.Layer):\n",
    "    def __init__(self, d_model, d_ff):\n",
    "        super().__init__()\n",
    "        self.ffn = tf.keras.Sequential([\n",
    "            tf.keras.layers.Dense(d_ff, activation='relu'),\n",
    "            tf.keras.layers.Dense(d_model)\n",
    "        ])\n",
    "\n",
    "    def call(self, x):\n",
    "        return self.ffn(x)"
   ]
  },
  {
   "cell_type": "code",
   "execution_count": 16,
   "id": "01c092f0",
   "metadata": {},
   "outputs": [],
   "source": [
    "class EncoderLayer(tf.keras.layers.Layer):\n",
    "    def __init__(self, d_model, n_head, d_ff, seq_len):\n",
    "        super().__init__()\n",
    "        self.position = tf.constant(position_encoding(seq_len, d_model))\n",
    "        self.embedding = tf.keras.layers.Embedding(100, d_model)\n",
    "        self.mha = MHA(seq_len, d_model, n_head)\n",
    "        self.add_norm1 = AddNorm()\n",
    "        self.ffn = FFN(d_model, d_ff)\n",
    "        self.add_norm2 = AddNorm()\n",
    "\n",
    "    def call(self, x):\n",
    "        x = self.embedding(x)\n",
    "        x = x + self.position[None, :, :]\n",
    "        attn_output = self.mha(x)\n",
    "        x = self.add_norm1(x, attn_output)\n",
    "        ffn_output = self.ffn(x)\n",
    "        x = self.add_norm2(x, ffn_output)\n",
    "        return x"
   ]
  },
  {
   "cell_type": "code",
   "execution_count": 18,
   "id": "1921f99e",
   "metadata": {},
   "outputs": [
    {
     "data": {
      "text/plain": [
       "<tf.Tensor: shape=(5, 10, 512), dtype=float32, numpy=\n",
       "array([[[-1.3524554 , -0.07163309, -1.4625372 , ..., -0.46846896,\n",
       "         -0.76534396,  1.7851676 ],\n",
       "        [-0.50993747, -0.65109587, -0.5035783 , ..., -0.44811943,\n",
       "         -0.75598425,  1.6804966 ],\n",
       "        [-0.57834435, -1.811507  , -0.34832782, ..., -0.34342116,\n",
       "         -0.7374161 ,  1.5633274 ],\n",
       "        ...,\n",
       "        [-0.20739476, -0.5264578 , -1.5128825 , ..., -0.35041055,\n",
       "         -0.66425246,  1.6913017 ],\n",
       "        [ 0.32422712, -1.5190591 , -0.81760037, ..., -0.5111117 ,\n",
       "         -0.69395524,  1.5366465 ],\n",
       "        [-0.31902927, -2.3752072 , -0.85781276, ..., -0.47169682,\n",
       "         -0.5960291 ,  1.4610789 ]],\n",
       "\n",
       "       [[-1.3039428 , -0.0917065 , -1.4280611 , ..., -0.4895043 ,\n",
       "         -0.705066  ,  1.7918689 ],\n",
       "        [-0.6019963 , -0.6590475 , -0.48992437, ..., -0.37612402,\n",
       "         -0.7499124 ,  1.7062058 ],\n",
       "        [-0.55276835, -1.7759085 , -0.36483955, ..., -0.33802414,\n",
       "         -0.78432596,  1.6315383 ],\n",
       "        ...,\n",
       "        [-0.16420642, -0.6353003 , -1.4677829 , ..., -0.36738524,\n",
       "         -0.61420995,  1.638421  ],\n",
       "        [ 0.3398102 , -1.5322572 , -0.7660558 , ..., -0.46355367,\n",
       "         -0.69047743,  1.5770552 ],\n",
       "        [-0.3973185 , -2.378135  , -0.8619115 , ..., -0.38283783,\n",
       "         -0.5815485 ,  1.4915185 ]],\n",
       "\n",
       "       [[-1.3362954 , -0.05138522, -1.4084891 , ..., -0.41610736,\n",
       "         -0.70942324,  1.7273632 ],\n",
       "        [-0.5068225 , -0.73991215, -0.42436337, ..., -0.3698341 ,\n",
       "         -0.78139293,  1.6093873 ],\n",
       "        [-0.59532434, -1.8553408 , -0.23613587, ..., -0.36337438,\n",
       "         -0.72973835,  1.6530242 ],\n",
       "        ...,\n",
       "        [-0.17627499, -0.6307242 , -1.4750743 , ..., -0.3165667 ,\n",
       "         -0.6788938 ,  1.6355345 ],\n",
       "        [ 0.29024705, -1.5966754 , -0.70488477, ..., -0.46061403,\n",
       "         -0.6739735 ,  1.5989431 ],\n",
       "        [-0.34017164, -2.301949  , -0.8274342 , ..., -0.3941826 ,\n",
       "         -0.65830934,  1.5216336 ]],\n",
       "\n",
       "       [[-1.30234   , -0.04605549, -1.4438412 , ..., -0.50389606,\n",
       "         -0.678127  ,  1.790947  ],\n",
       "        [-0.5985739 , -0.685213  , -0.49792102, ..., -0.46431038,\n",
       "         -0.7722987 ,  1.6680176 ],\n",
       "        [-0.62425697, -1.8510563 , -0.32087028, ..., -0.2999716 ,\n",
       "         -0.77738947,  1.6188745 ],\n",
       "        ...,\n",
       "        [-0.12810743, -0.5961173 , -1.4949985 , ..., -0.38279164,\n",
       "         -0.758308  ,  1.683148  ],\n",
       "        [ 0.32040536, -1.6077421 , -0.76022583, ..., -0.4413416 ,\n",
       "         -0.6949445 ,  1.5044198 ],\n",
       "        [-0.34055135, -2.341505  , -0.92085254, ..., -0.5187197 ,\n",
       "         -0.69339544,  1.5022373 ]],\n",
       "\n",
       "       [[-1.3024075 , -0.12397724, -1.3929763 , ..., -0.43976873,\n",
       "         -0.711991  ,  1.7445204 ],\n",
       "        [-0.4741813 , -0.7323104 , -0.54203904, ..., -0.4172008 ,\n",
       "         -0.7750463 ,  1.6555986 ],\n",
       "        [-0.5647388 , -1.8237104 , -0.31643057, ..., -0.38732454,\n",
       "         -0.7438063 ,  1.6221896 ],\n",
       "        ...,\n",
       "        [-0.09519938, -0.62498736, -1.4317629 , ..., -0.40945497,\n",
       "         -0.68167865,  1.6240456 ],\n",
       "        [ 0.26100352, -1.6307007 , -0.7572405 , ..., -0.37771383,\n",
       "         -0.64993113,  1.5464748 ],\n",
       "        [-0.29411757, -2.3588707 , -0.86169595, ..., -0.5016624 ,\n",
       "         -0.69790256,  1.4278095 ]]], dtype=float32)>"
      ]
     },
     "execution_count": 18,
     "metadata": {},
     "output_type": "execute_result"
    }
   ],
   "source": [
    "# 示例\n",
    "\n",
    "model = EncoderLayer(512, 8, 128, 10)\n",
    "x = tf.random.uniform((5, 10), minval=0, maxval=100, dtype=tf.int32)\n",
    "model(x)"
   ]
  }
 ],
 "metadata": {
  "kernelspec": {
   "display_name": "dl",
   "language": "python",
   "name": "python3"
  },
  "language_info": {
   "codemirror_mode": {
    "name": "ipython",
    "version": 3
   },
   "file_extension": ".py",
   "mimetype": "text/x-python",
   "name": "python",
   "nbconvert_exporter": "python",
   "pygments_lexer": "ipython3",
   "version": "3.10.18"
  }
 },
 "nbformat": 4,
 "nbformat_minor": 5
}
